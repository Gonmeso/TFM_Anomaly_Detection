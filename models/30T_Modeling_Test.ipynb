{
 "cells": [
  {
   "cell_type": "markdown",
   "metadata": {},
   "source": [
    "## Import libraries and read data"
   ]
  },
  {
   "cell_type": "code",
   "execution_count": 29,
   "metadata": {},
   "outputs": [],
   "source": [
    "import numpy as np\n",
    "import pandas as pd\n",
    "from math import ceil\n",
    "import matplotlib.pyplot as plt\n",
    "from mpl_toolkits.mplot3d import Axes3D\n",
    "%matplotlib inline\n",
    "\n",
    "from sklearn.ensemble import IsolationForest\n",
    "from sklearn.preprocessing import StandardScaler\n",
    "from sklearn.decomposition import PCA\n",
    "\n",
    "from keras.layers import Input, Dense\n",
    "from keras.models import Model\n",
    "from keras.backend import tf\n",
    "\n",
    "DATA_PATH = '../data/final/final_dataset_30T.csv'"
   ]
  },
  {
   "cell_type": "code",
   "execution_count": 30,
   "metadata": {
    "scrolled": false
   },
   "outputs": [
    {
     "data": {
      "text/html": [
       "<div>\n",
       "<style scoped>\n",
       "    .dataframe tbody tr th:only-of-type {\n",
       "        vertical-align: middle;\n",
       "    }\n",
       "\n",
       "    .dataframe tbody tr th {\n",
       "        vertical-align: top;\n",
       "    }\n",
       "\n",
       "    .dataframe thead th {\n",
       "        text-align: right;\n",
       "    }\n",
       "</style>\n",
       "<table border=\"1\" class=\"dataframe\">\n",
       "  <thead>\n",
       "    <tr style=\"text-align: right;\">\n",
       "      <th></th>\n",
       "      <th>('avg_Length', 'avg_2019-02-01 09:30:00')</th>\n",
       "      <th>('avg_Length', 'avg_2019-02-01 10:00:00')</th>\n",
       "      <th>('avg_Length', 'avg_2019-02-01 10:30:00')</th>\n",
       "      <th>('avg_Length', 'avg_2019-02-01 11:00:00')</th>\n",
       "      <th>('avg_Length', 'avg_2019-02-01 11:30:00')</th>\n",
       "      <th>('avg_Length', 'avg_2019-02-01 12:00:00')</th>\n",
       "      <th>('avg_Length', 'avg_2019-02-01 12:30:00')</th>\n",
       "      <th>('avg_Length', 'avg_2019-02-01 13:00:00')</th>\n",
       "      <th>('avg_Length', 'avg_2019-02-01 13:30:00')</th>\n",
       "      <th>('avg_Length', 'avg_2019-02-01 14:00:00')</th>\n",
       "      <th>...</th>\n",
       "      <th>('count_Port2_last_1', 'count_2019-02-01 22:00:00')</th>\n",
       "      <th>host0</th>\n",
       "      <th>host1</th>\n",
       "      <th>host2</th>\n",
       "      <th>host3</th>\n",
       "      <th>host4</th>\n",
       "      <th>host5</th>\n",
       "      <th>host6</th>\n",
       "      <th>host7</th>\n",
       "      <th>is_src</th>\n",
       "    </tr>\n",
       "  </thead>\n",
       "  <tbody>\n",
       "    <tr>\n",
       "      <th>1.0.171.245source</th>\n",
       "      <td>0.0</td>\n",
       "      <td>0.0</td>\n",
       "      <td>0.0</td>\n",
       "      <td>0.0</td>\n",
       "      <td>0.0</td>\n",
       "      <td>0.0</td>\n",
       "      <td>0.0</td>\n",
       "      <td>0.0</td>\n",
       "      <td>0.000000</td>\n",
       "      <td>0.0</td>\n",
       "      <td>...</td>\n",
       "      <td>0.0</td>\n",
       "      <td>1</td>\n",
       "      <td>1</td>\n",
       "      <td>1</td>\n",
       "      <td>1</td>\n",
       "      <td>0</td>\n",
       "      <td>1</td>\n",
       "      <td>0</td>\n",
       "      <td>1</td>\n",
       "      <td>1</td>\n",
       "    </tr>\n",
       "    <tr>\n",
       "      <th>1.0.255.54source</th>\n",
       "      <td>0.0</td>\n",
       "      <td>0.0</td>\n",
       "      <td>0.0</td>\n",
       "      <td>0.0</td>\n",
       "      <td>0.0</td>\n",
       "      <td>0.0</td>\n",
       "      <td>0.0</td>\n",
       "      <td>0.0</td>\n",
       "      <td>51.219512</td>\n",
       "      <td>0.0</td>\n",
       "      <td>...</td>\n",
       "      <td>0.0</td>\n",
       "      <td>0</td>\n",
       "      <td>0</td>\n",
       "      <td>1</td>\n",
       "      <td>1</td>\n",
       "      <td>0</td>\n",
       "      <td>1</td>\n",
       "      <td>1</td>\n",
       "      <td>0</td>\n",
       "      <td>1</td>\n",
       "    </tr>\n",
       "    <tr>\n",
       "      <th>1.1.158.248source</th>\n",
       "      <td>0.0</td>\n",
       "      <td>0.0</td>\n",
       "      <td>0.0</td>\n",
       "      <td>44.0</td>\n",
       "      <td>0.0</td>\n",
       "      <td>0.0</td>\n",
       "      <td>0.0</td>\n",
       "      <td>0.0</td>\n",
       "      <td>0.000000</td>\n",
       "      <td>0.0</td>\n",
       "      <td>...</td>\n",
       "      <td>0.0</td>\n",
       "      <td>1</td>\n",
       "      <td>1</td>\n",
       "      <td>1</td>\n",
       "      <td>1</td>\n",
       "      <td>1</td>\n",
       "      <td>0</td>\n",
       "      <td>0</td>\n",
       "      <td>0</td>\n",
       "      <td>1</td>\n",
       "    </tr>\n",
       "    <tr>\n",
       "      <th>1.1.217.60source</th>\n",
       "      <td>0.0</td>\n",
       "      <td>0.0</td>\n",
       "      <td>0.0</td>\n",
       "      <td>0.0</td>\n",
       "      <td>0.0</td>\n",
       "      <td>0.0</td>\n",
       "      <td>0.0</td>\n",
       "      <td>0.0</td>\n",
       "      <td>0.000000</td>\n",
       "      <td>0.0</td>\n",
       "      <td>...</td>\n",
       "      <td>0.0</td>\n",
       "      <td>0</td>\n",
       "      <td>0</td>\n",
       "      <td>1</td>\n",
       "      <td>1</td>\n",
       "      <td>1</td>\n",
       "      <td>1</td>\n",
       "      <td>0</td>\n",
       "      <td>0</td>\n",
       "      <td>1</td>\n",
       "    </tr>\n",
       "    <tr>\n",
       "      <th>1.1.230.15source</th>\n",
       "      <td>0.0</td>\n",
       "      <td>0.0</td>\n",
       "      <td>0.0</td>\n",
       "      <td>0.0</td>\n",
       "      <td>0.0</td>\n",
       "      <td>0.0</td>\n",
       "      <td>40.0</td>\n",
       "      <td>0.0</td>\n",
       "      <td>0.000000</td>\n",
       "      <td>0.0</td>\n",
       "      <td>...</td>\n",
       "      <td>0.0</td>\n",
       "      <td>0</td>\n",
       "      <td>0</td>\n",
       "      <td>0</td>\n",
       "      <td>0</td>\n",
       "      <td>1</td>\n",
       "      <td>1</td>\n",
       "      <td>1</td>\n",
       "      <td>1</td>\n",
       "      <td>1</td>\n",
       "    </tr>\n",
       "  </tbody>\n",
       "</table>\n",
       "<p>5 rows × 1101 columns</p>\n",
       "</div>"
      ],
      "text/plain": [
       "                   ('avg_Length', 'avg_2019-02-01 09:30:00')  \\\n",
       "1.0.171.245source                                        0.0   \n",
       "1.0.255.54source                                         0.0   \n",
       "1.1.158.248source                                        0.0   \n",
       "1.1.217.60source                                         0.0   \n",
       "1.1.230.15source                                         0.0   \n",
       "\n",
       "                   ('avg_Length', 'avg_2019-02-01 10:00:00')  \\\n",
       "1.0.171.245source                                        0.0   \n",
       "1.0.255.54source                                         0.0   \n",
       "1.1.158.248source                                        0.0   \n",
       "1.1.217.60source                                         0.0   \n",
       "1.1.230.15source                                         0.0   \n",
       "\n",
       "                   ('avg_Length', 'avg_2019-02-01 10:30:00')  \\\n",
       "1.0.171.245source                                        0.0   \n",
       "1.0.255.54source                                         0.0   \n",
       "1.1.158.248source                                        0.0   \n",
       "1.1.217.60source                                         0.0   \n",
       "1.1.230.15source                                         0.0   \n",
       "\n",
       "                   ('avg_Length', 'avg_2019-02-01 11:00:00')  \\\n",
       "1.0.171.245source                                        0.0   \n",
       "1.0.255.54source                                         0.0   \n",
       "1.1.158.248source                                       44.0   \n",
       "1.1.217.60source                                         0.0   \n",
       "1.1.230.15source                                         0.0   \n",
       "\n",
       "                   ('avg_Length', 'avg_2019-02-01 11:30:00')  \\\n",
       "1.0.171.245source                                        0.0   \n",
       "1.0.255.54source                                         0.0   \n",
       "1.1.158.248source                                        0.0   \n",
       "1.1.217.60source                                         0.0   \n",
       "1.1.230.15source                                         0.0   \n",
       "\n",
       "                   ('avg_Length', 'avg_2019-02-01 12:00:00')  \\\n",
       "1.0.171.245source                                        0.0   \n",
       "1.0.255.54source                                         0.0   \n",
       "1.1.158.248source                                        0.0   \n",
       "1.1.217.60source                                         0.0   \n",
       "1.1.230.15source                                         0.0   \n",
       "\n",
       "                   ('avg_Length', 'avg_2019-02-01 12:30:00')  \\\n",
       "1.0.171.245source                                        0.0   \n",
       "1.0.255.54source                                         0.0   \n",
       "1.1.158.248source                                        0.0   \n",
       "1.1.217.60source                                         0.0   \n",
       "1.1.230.15source                                        40.0   \n",
       "\n",
       "                   ('avg_Length', 'avg_2019-02-01 13:00:00')  \\\n",
       "1.0.171.245source                                        0.0   \n",
       "1.0.255.54source                                         0.0   \n",
       "1.1.158.248source                                        0.0   \n",
       "1.1.217.60source                                         0.0   \n",
       "1.1.230.15source                                         0.0   \n",
       "\n",
       "                   ('avg_Length', 'avg_2019-02-01 13:30:00')  \\\n",
       "1.0.171.245source                                   0.000000   \n",
       "1.0.255.54source                                   51.219512   \n",
       "1.1.158.248source                                   0.000000   \n",
       "1.1.217.60source                                    0.000000   \n",
       "1.1.230.15source                                    0.000000   \n",
       "\n",
       "                   ('avg_Length', 'avg_2019-02-01 14:00:00')  ...  \\\n",
       "1.0.171.245source                                        0.0  ...   \n",
       "1.0.255.54source                                         0.0  ...   \n",
       "1.1.158.248source                                        0.0  ...   \n",
       "1.1.217.60source                                         0.0  ...   \n",
       "1.1.230.15source                                         0.0  ...   \n",
       "\n",
       "                   ('count_Port2_last_1', 'count_2019-02-01 22:00:00')  host0  \\\n",
       "1.0.171.245source                                                0.0        1   \n",
       "1.0.255.54source                                                 0.0        0   \n",
       "1.1.158.248source                                                0.0        1   \n",
       "1.1.217.60source                                                 0.0        0   \n",
       "1.1.230.15source                                                 0.0        0   \n",
       "\n",
       "                   host1  host2  host3  host4  host5  host6  host7  is_src  \n",
       "1.0.171.245source      1      1      1      0      1      0      1       1  \n",
       "1.0.255.54source       0      1      1      0      1      1      0       1  \n",
       "1.1.158.248source      1      1      1      1      0      0      0       1  \n",
       "1.1.217.60source       0      1      1      1      1      0      0       1  \n",
       "1.1.230.15source       0      0      0      1      1      1      1       1  \n",
       "\n",
       "[5 rows x 1101 columns]"
      ]
     },
     "execution_count": 30,
     "metadata": {},
     "output_type": "execute_result"
    }
   ],
   "source": [
    "data = pd.read_csv(DATA_PATH, sep='\\t', index_col=[0])\n",
    "data.head()"
   ]
  },
  {
   "cell_type": "markdown",
   "metadata": {},
   "source": [
    "## Scale input"
   ]
  },
  {
   "cell_type": "code",
   "execution_count": 31,
   "metadata": {},
   "outputs": [],
   "source": [
    "scaler = StandardScaler()\n",
    "data_scaled = scaler.fit_transform(data)"
   ]
  },
  {
   "cell_type": "markdown",
   "metadata": {},
   "source": [
    "## Isolation Forest"
   ]
  },
  {
   "cell_type": "code",
   "execution_count": 75,
   "metadata": {
    "scrolled": true
   },
   "outputs": [
    {
     "name": "stderr",
     "output_type": "stream",
     "text": [
      "[Parallel(n_jobs=10)]: Using backend ThreadingBackend with 10 concurrent workers.\n",
      "[Parallel(n_jobs=10)]: Done   2 out of  10 | elapsed:   54.8s remaining:  3.7min\n",
      "[Parallel(n_jobs=10)]: Done  10 out of  10 | elapsed:   55.1s finished\n"
     ]
    }
   ],
   "source": [
    "i_forest = IsolationForest(n_estimators=500,\n",
    "                           random_state=101,\n",
    "                           verbose=1,\n",
    "                           n_jobs=-1,\n",
    "                           contamination=0.01,\n",
    "                           behaviour='new')\n",
    "results = i_forest.fit_predict(data_scaled)"
   ]
  },
  {
   "cell_type": "markdown",
   "metadata": {},
   "source": [
    "Things tried:\n",
    "\n",
    "* 1000 estimators - not much difference\n",
    "* contamination \"legacy\" - always found about a 10% anomalies\n",
    "* contamination \"auto\" - worked better than legacy bringing down to 5%\n",
    "* behaviour \"old\" - 10% anomalies\n",
    "* contamination can be tackled as a threshold\n"
   ]
  },
  {
   "cell_type": "markdown",
   "metadata": {},
   "source": [
    "## Apply PCA in order to plot the results"
   ]
  },
  {
   "cell_type": "code",
   "execution_count": 76,
   "metadata": {
    "scrolled": true
   },
   "outputs": [
    {
     "name": "stdout",
     "output_type": "stream",
     "text": [
      "0.9512598719959943\n"
     ]
    }
   ],
   "source": [
    "pca = PCA(n_components=3, ).fit(data)\n",
    "print(pca.explained_variance_ratio_.sum())\n",
    "data_pca = pca.transform(data)\n",
    "print(np.unique(results, return_counts=True))"
   ]
  },
  {
   "cell_type": "code",
   "execution_count": 80,
   "metadata": {},
   "outputs": [
    {
     "data": {
      "text/plain": [
       "<mpl_toolkits.mplot3d.art3d.Path3DCollection at 0x7f99f808f400>"
      ]
     },
     "execution_count": 80,
     "metadata": {},
     "output_type": "execute_result"
    },
    {
     "data": {
      "image/png": "[encoded data removed]",
      "text/plain": [
       "<Figure size 432x288 with 1 Axes>"
      ]
     },
     "metadata": {
      "needs_background": "light"
     },
     "output_type": "display_data"
    }
   ],
   "source": [
    "fig = plt.figure()\n",
    "ax = fig.add_subplot(111,projection='3d')\n",
    "ax.scatter(data_pca[:,0], data_pca[:,1], data_pca[:,2], c=results, )"
   ]
  },
  {
   "cell_type": "markdown",
   "metadata": {},
   "source": [
    "## Autoencoder"
   ]
  },
  {
   "cell_type": "code",
   "execution_count": 81,
   "metadata": {},
   "outputs": [
    {
     "name": "stdout",
     "output_type": "stream",
     "text": [
      "45\n"
     ]
    }
   ],
   "source": [
    "latent_dim = ceil(data.shape[1]/25)\n",
    "dim_2 = ceil(data.shape[1]/10)\n",
    "dim_1 = ceil(data.shape[1]/5)\n",
    "print(latent_dim)"
   ]
  },
  {
   "cell_type": "code",
   "execution_count": 82,
   "metadata": {},
   "outputs": [],
   "source": [
    "input_ = Input(shape=(data.shape[1],))\n",
    "encoded = Dense(dim_1, activation='tanh')(input_)\n",
    "encoded = Dense(dim_2, activation='tanh')(encoded)\n",
    "encoded = Dense(latent_dim, activation='tanh')(encoded)\n",
    "\n",
    "decoded = Dense(dim_2, activation='tanh')(encoded)\n",
    "decoded = Dense(dim_1, activation='tanh')(decoded)\n",
    "decoded = Dense(data.shape[1], activation='sigmoid')(decoded)"
   ]
  },
  {
   "cell_type": "markdown",
   "metadata": {},
   "source": [
    "Things tried:\n",
    "* activation relu - better tanh due to standar scaling\n",
    "* optimizer adadelta - worse performance than adam\n",
    "* optimizer sgd - worse performance than adam"
   ]
  },
  {
   "cell_type": "code",
   "execution_count": 93,
   "metadata": {
    "scrolled": true
   },
   "outputs": [
    {
     "name": "stdout",
     "output_type": "stream",
     "text": [
      "Epoch 1/30\n",
      "46713/46713 [==============================] - 9s 183us/step - loss: 0.9064\n",
      "Epoch 2/30\n",
      "46713/46713 [==============================] - 8s 182us/step - loss: 0.9064\n",
      "Epoch 3/30\n",
      "46713/46713 [==============================] - 9s 183us/step - loss: 0.9063\n",
      "Epoch 4/30\n",
      "46713/46713 [==============================] - 8s 179us/step - loss: 0.9062\n",
      "Epoch 5/30\n",
      "46713/46713 [==============================] - 9s 184us/step - loss: 0.9062\n",
      "Epoch 6/30\n",
      "46713/46713 [==============================] - 9s 187us/step - loss: 0.9060\n",
      "Epoch 7/30\n",
      "46713/46713 [==============================] - 9s 193us/step - loss: 0.9058\n",
      "Epoch 8/30\n",
      "46713/46713 [==============================] - 9s 183us/step - loss: 0.9058\n",
      "Epoch 9/30\n",
      "46713/46713 [==============================] - 9s 191us/step - loss: 0.9057\n",
      "Epoch 10/30\n",
      "46713/46713 [==============================] - 8s 180us/step - loss: 0.9057\n",
      "Epoch 11/30\n",
      "46713/46713 [==============================] - 9s 185us/step - loss: 0.9057\n",
      "Epoch 12/30\n",
      "46713/46713 [==============================] - 8s 174us/step - loss: 0.9056\n",
      "Epoch 13/30\n",
      "46713/46713 [==============================] - 9s 182us/step - loss: 0.9055\n",
      "Epoch 14/30\n",
      "46713/46713 [==============================] - 8s 178us/step - loss: 0.9054\n",
      "Epoch 15/30\n",
      "46713/46713 [==============================] - 8s 181us/step - loss: 0.9054\n",
      "Epoch 16/30\n",
      "46713/46713 [==============================] - 8s 177us/step - loss: 0.9053\n",
      "Epoch 17/30\n",
      "46713/46713 [==============================] - 9s 185us/step - loss: 0.9053\n",
      "Epoch 18/30\n",
      "46713/46713 [==============================] - 8s 176us/step - loss: 0.9052\n",
      "Epoch 19/30\n",
      "46713/46713 [==============================] - 8s 176us/step - loss: 0.9052\n",
      "Epoch 20/30\n",
      "46713/46713 [==============================] - 8s 177us/step - loss: 0.9052\n",
      "Epoch 21/30\n",
      "46713/46713 [==============================] - 9s 187us/step - loss: 0.9052\n",
      "Epoch 22/30\n",
      "46713/46713 [==============================] - 8s 181us/step - loss: 0.9053\n",
      "Epoch 23/30\n",
      "46713/46713 [==============================] - 9s 182us/step - loss: 0.9052\n",
      "Epoch 24/30\n",
      "46713/46713 [==============================] - 8s 181us/step - loss: 0.9050\n",
      "Epoch 25/30\n",
      "46713/46713 [==============================] - 8s 181us/step - loss: 0.9050\n",
      "Epoch 26/30\n",
      "46713/46713 [==============================] - 8s 176us/step - loss: 0.9049\n",
      "Epoch 27/30\n",
      "46713/46713 [==============================] - 8s 172us/step - loss: 0.9048\n",
      "Epoch 28/30\n",
      "46713/46713 [==============================] - 8s 173us/step - loss: 0.9048\n",
      "Epoch 29/30\n",
      "46713/46713 [==============================] - 8s 181us/step - loss: 0.9048\n",
      "Epoch 30/30\n",
      "46713/46713 [==============================] - 9s 183us/step - loss: 0.9048\n"
     ]
    }
   ],
   "source": [
    "autoencoder = Model(input_, decoded)\n",
    "autoencoder.compile(optimizer='adam', loss='mean_squared_error')\n",
    "\n",
    "anomaly = autoencoder.fit(data_scaled, data_scaled,\n",
    "                epochs=30,\n",
    "                batch_size=256,\n",
    "                shuffle=True,)\n"
   ]
  },
  {
   "cell_type": "markdown",
   "metadata": {},
   "source": [
    "Things tried:\n",
    "* epochs above 25/30, seems to overfit"
   ]
  },
  {
   "cell_type": "code",
   "execution_count": 94,
   "metadata": {},
   "outputs": [
    {
     "data": {
      "text/plain": [
       "[<matplotlib.lines.Line2D at 0x7f99e203e748>]"
      ]
     },
     "execution_count": 94,
     "metadata": {},
     "output_type": "execute_result"
    },
    {
     "data": {
      "image/png": "[encoded data removed]",
      "text/plain": [
       "<Figure size 432x288 with 1 Axes>"
      ]
     },
     "metadata": {
      "needs_background": "light"
     },
     "output_type": "display_data"
    }
   ],
   "source": [
    "plt.plot(anomaly.history['loss'])"
   ]
  },
  {
   "cell_type": "code",
   "execution_count": 95,
   "metadata": {},
   "outputs": [
    {
     "data": {
      "text/html": [
       "<div>\n",
       "<style scoped>\n",
       "    .dataframe tbody tr th:only-of-type {\n",
       "        vertical-align: middle;\n",
       "    }\n",
       "\n",
       "    .dataframe tbody tr th {\n",
       "        vertical-align: top;\n",
       "    }\n",
       "\n",
       "    .dataframe thead th {\n",
       "        text-align: right;\n",
       "    }\n",
       "</style>\n",
       "<table border=\"1\" class=\"dataframe\">\n",
       "  <thead>\n",
       "    <tr style=\"text-align: right;\">\n",
       "      <th></th>\n",
       "      <th>Reconstruction_error</th>\n",
       "    </tr>\n",
       "  </thead>\n",
       "  <tbody>\n",
       "    <tr>\n",
       "      <th>count</th>\n",
       "      <td>46713.000000</td>\n",
       "    </tr>\n",
       "    <tr>\n",
       "      <th>mean</th>\n",
       "      <td>0.904802</td>\n",
       "    </tr>\n",
       "    <tr>\n",
       "      <th>std</th>\n",
       "      <td>35.999124</td>\n",
       "    </tr>\n",
       "    <tr>\n",
       "      <th>min</th>\n",
       "      <td>0.010060</td>\n",
       "    </tr>\n",
       "    <tr>\n",
       "      <th>25%</th>\n",
       "      <td>0.015731</td>\n",
       "    </tr>\n",
       "    <tr>\n",
       "      <th>50%</th>\n",
       "      <td>0.017726</td>\n",
       "    </tr>\n",
       "    <tr>\n",
       "      <th>75%</th>\n",
       "      <td>0.026458</td>\n",
       "    </tr>\n",
       "    <tr>\n",
       "      <th>max</th>\n",
       "      <td>6278.324230</td>\n",
       "    </tr>\n",
       "  </tbody>\n",
       "</table>\n",
       "</div>"
      ],
      "text/plain": [
       "       Reconstruction_error\n",
       "count          46713.000000\n",
       "mean               0.904802\n",
       "std               35.999124\n",
       "min                0.010060\n",
       "25%                0.015731\n",
       "50%                0.017726\n",
       "75%                0.026458\n",
       "max             6278.324230"
      ]
     },
     "execution_count": 95,
     "metadata": {},
     "output_type": "execute_result"
    }
   ],
   "source": [
    "ae_results = autoencoder.predict(data_scaled)\n",
    "mse = np.mean(np.power(data_scaled - ae_results, 2), axis=1)\n",
    "error_df = pd.DataFrame({'Reconstruction_error': mse})\n",
    "error_df.describe()"
   ]
  },
  {
   "cell_type": "code",
   "execution_count": 96,
   "metadata": {},
   "outputs": [
    {
     "data": {
      "text/plain": [
       "<matplotlib.lines.Line2D at 0x7f99e9136400>"
      ]
     },
     "execution_count": 96,
     "metadata": {},
     "output_type": "execute_result"
    },
    {
     "data": {
      "image/png": "[encoded data removed]",
      "text/plain": [
       "<Figure size 432x288 with 1 Axes>"
      ]
     },
     "metadata": {
      "needs_background": "light"
     },
     "output_type": "display_data"
    }
   ],
   "source": [
    "plt.scatter(x=error_df.index, y=error_df)\n",
    "plt.axhline(y=error_df.values.mean() + error_df.values.std(),color='r' )"
   ]
  },
  {
   "cell_type": "code",
   "execution_count": 97,
   "metadata": {
    "scrolled": true
   },
   "outputs": [
    {
     "name": "stdout",
     "output_type": "stream",
     "text": [
      "(74, 1)\n"
     ]
    },
    {
     "data": {
      "text/html": [
       "<div>\n",
       "<style scoped>\n",
       "    .dataframe tbody tr th:only-of-type {\n",
       "        vertical-align: middle;\n",
       "    }\n",
       "\n",
       "    .dataframe tbody tr th {\n",
       "        vertical-align: top;\n",
       "    }\n",
       "\n",
       "    .dataframe thead th {\n",
       "        text-align: right;\n",
       "    }\n",
       "</style>\n",
       "<table border=\"1\" class=\"dataframe\">\n",
       "  <thead>\n",
       "    <tr style=\"text-align: right;\">\n",
       "      <th></th>\n",
       "      <th>('avg_Length', 'avg_2019-02-01 09:30:00')</th>\n",
       "      <th>('avg_Length', 'avg_2019-02-01 10:00:00')</th>\n",
       "      <th>('avg_Length', 'avg_2019-02-01 10:30:00')</th>\n",
       "      <th>('avg_Length', 'avg_2019-02-01 11:00:00')</th>\n",
       "      <th>('avg_Length', 'avg_2019-02-01 11:30:00')</th>\n",
       "      <th>('avg_Length', 'avg_2019-02-01 12:00:00')</th>\n",
       "      <th>('avg_Length', 'avg_2019-02-01 12:30:00')</th>\n",
       "      <th>('avg_Length', 'avg_2019-02-01 13:00:00')</th>\n",
       "      <th>('avg_Length', 'avg_2019-02-01 13:30:00')</th>\n",
       "      <th>('avg_Length', 'avg_2019-02-01 14:00:00')</th>\n",
       "      <th>...</th>\n",
       "      <th>('count_Port2_last_1', 'count_2019-02-01 22:00:00')</th>\n",
       "      <th>host0</th>\n",
       "      <th>host1</th>\n",
       "      <th>host2</th>\n",
       "      <th>host3</th>\n",
       "      <th>host4</th>\n",
       "      <th>host5</th>\n",
       "      <th>host6</th>\n",
       "      <th>host7</th>\n",
       "      <th>is_src</th>\n",
       "    </tr>\n",
       "  </thead>\n",
       "  <tbody>\n",
       "    <tr>\n",
       "      <th>103.9.177.185source</th>\n",
       "      <td>0.000000</td>\n",
       "      <td>0.000000</td>\n",
       "      <td>0.000000</td>\n",
       "      <td>0.000000</td>\n",
       "      <td>0.000000</td>\n",
       "      <td>0.000000</td>\n",
       "      <td>0.000000</td>\n",
       "      <td>0.000000</td>\n",
       "      <td>48.000000</td>\n",
       "      <td>48.000000</td>\n",
       "      <td>...</td>\n",
       "      <td>0.0</td>\n",
       "      <td>1</td>\n",
       "      <td>0</td>\n",
       "      <td>1</td>\n",
       "      <td>1</td>\n",
       "      <td>1</td>\n",
       "      <td>0</td>\n",
       "      <td>0</td>\n",
       "      <td>1</td>\n",
       "      <td>1</td>\n",
       "    </tr>\n",
       "    <tr>\n",
       "      <th>104.192.1.15source</th>\n",
       "      <td>60.000000</td>\n",
       "      <td>59.978492</td>\n",
       "      <td>59.802326</td>\n",
       "      <td>60.000000</td>\n",
       "      <td>60.854239</td>\n",
       "      <td>60.613653</td>\n",
       "      <td>60.000000</td>\n",
       "      <td>60.401041</td>\n",
       "      <td>60.548171</td>\n",
       "      <td>59.983181</td>\n",
       "      <td>...</td>\n",
       "      <td>0.0</td>\n",
       "      <td>0</td>\n",
       "      <td>0</td>\n",
       "      <td>0</td>\n",
       "      <td>0</td>\n",
       "      <td>1</td>\n",
       "      <td>1</td>\n",
       "      <td>1</td>\n",
       "      <td>1</td>\n",
       "      <td>1</td>\n",
       "    </tr>\n",
       "    <tr>\n",
       "      <th>104.248.135.165source</th>\n",
       "      <td>61.504604</td>\n",
       "      <td>61.425604</td>\n",
       "      <td>61.297026</td>\n",
       "      <td>61.551904</td>\n",
       "      <td>61.367338</td>\n",
       "      <td>61.300701</td>\n",
       "      <td>61.305091</td>\n",
       "      <td>61.803109</td>\n",
       "      <td>61.171340</td>\n",
       "      <td>61.223111</td>\n",
       "      <td>...</td>\n",
       "      <td>0.0</td>\n",
       "      <td>1</td>\n",
       "      <td>0</td>\n",
       "      <td>1</td>\n",
       "      <td>0</td>\n",
       "      <td>0</td>\n",
       "      <td>1</td>\n",
       "      <td>0</td>\n",
       "      <td>1</td>\n",
       "      <td>1</td>\n",
       "    </tr>\n",
       "    <tr>\n",
       "      <th>104.248.37.237source</th>\n",
       "      <td>61.878968</td>\n",
       "      <td>61.898538</td>\n",
       "      <td>61.447473</td>\n",
       "      <td>59.957901</td>\n",
       "      <td>60.179832</td>\n",
       "      <td>59.987654</td>\n",
       "      <td>60.796984</td>\n",
       "      <td>60.464435</td>\n",
       "      <td>61.751657</td>\n",
       "      <td>61.767182</td>\n",
       "      <td>...</td>\n",
       "      <td>400.0</td>\n",
       "      <td>1</td>\n",
       "      <td>1</td>\n",
       "      <td>1</td>\n",
       "      <td>0</td>\n",
       "      <td>1</td>\n",
       "      <td>1</td>\n",
       "      <td>0</td>\n",
       "      <td>1</td>\n",
       "      <td>1</td>\n",
       "    </tr>\n",
       "    <tr>\n",
       "      <th>115.133.239.238source</th>\n",
       "      <td>0.000000</td>\n",
       "      <td>0.000000</td>\n",
       "      <td>0.000000</td>\n",
       "      <td>0.000000</td>\n",
       "      <td>0.000000</td>\n",
       "      <td>0.000000</td>\n",
       "      <td>0.000000</td>\n",
       "      <td>0.000000</td>\n",
       "      <td>0.000000</td>\n",
       "      <td>0.000000</td>\n",
       "      <td>...</td>\n",
       "      <td>1828.0</td>\n",
       "      <td>1</td>\n",
       "      <td>1</td>\n",
       "      <td>1</td>\n",
       "      <td>0</td>\n",
       "      <td>1</td>\n",
       "      <td>1</td>\n",
       "      <td>1</td>\n",
       "      <td>0</td>\n",
       "      <td>1</td>\n",
       "    </tr>\n",
       "  </tbody>\n",
       "</table>\n",
       "<p>5 rows × 1101 columns</p>\n",
       "</div>"
      ],
      "text/plain": [
       "                       ('avg_Length', 'avg_2019-02-01 09:30:00')  \\\n",
       "103.9.177.185source                                     0.000000   \n",
       "104.192.1.15source                                     60.000000   \n",
       "104.248.135.165source                                  61.504604   \n",
       "104.248.37.237source                                   61.878968   \n",
       "115.133.239.238source                                   0.000000   \n",
       "\n",
       "                       ('avg_Length', 'avg_2019-02-01 10:00:00')  \\\n",
       "103.9.177.185source                                     0.000000   \n",
       "104.192.1.15source                                     59.978492   \n",
       "104.248.135.165source                                  61.425604   \n",
       "104.248.37.237source                                   61.898538   \n",
       "115.133.239.238source                                   0.000000   \n",
       "\n",
       "                       ('avg_Length', 'avg_2019-02-01 10:30:00')  \\\n",
       "103.9.177.185source                                     0.000000   \n",
       "104.192.1.15source                                     59.802326   \n",
       "104.248.135.165source                                  61.297026   \n",
       "104.248.37.237source                                   61.447473   \n",
       "115.133.239.238source                                   0.000000   \n",
       "\n",
       "                       ('avg_Length', 'avg_2019-02-01 11:00:00')  \\\n",
       "103.9.177.185source                                     0.000000   \n",
       "104.192.1.15source                                     60.000000   \n",
       "104.248.135.165source                                  61.551904   \n",
       "104.248.37.237source                                   59.957901   \n",
       "115.133.239.238source                                   0.000000   \n",
       "\n",
       "                       ('avg_Length', 'avg_2019-02-01 11:30:00')  \\\n",
       "103.9.177.185source                                     0.000000   \n",
       "104.192.1.15source                                     60.854239   \n",
       "104.248.135.165source                                  61.367338   \n",
       "104.248.37.237source                                   60.179832   \n",
       "115.133.239.238source                                   0.000000   \n",
       "\n",
       "                       ('avg_Length', 'avg_2019-02-01 12:00:00')  \\\n",
       "103.9.177.185source                                     0.000000   \n",
       "104.192.1.15source                                     60.613653   \n",
       "104.248.135.165source                                  61.300701   \n",
       "104.248.37.237source                                   59.987654   \n",
       "115.133.239.238source                                   0.000000   \n",
       "\n",
       "                       ('avg_Length', 'avg_2019-02-01 12:30:00')  \\\n",
       "103.9.177.185source                                     0.000000   \n",
       "104.192.1.15source                                     60.000000   \n",
       "104.248.135.165source                                  61.305091   \n",
       "104.248.37.237source                                   60.796984   \n",
       "115.133.239.238source                                   0.000000   \n",
       "\n",
       "                       ('avg_Length', 'avg_2019-02-01 13:00:00')  \\\n",
       "103.9.177.185source                                     0.000000   \n",
       "104.192.1.15source                                     60.401041   \n",
       "104.248.135.165source                                  61.803109   \n",
       "104.248.37.237source                                   60.464435   \n",
       "115.133.239.238source                                   0.000000   \n",
       "\n",
       "                       ('avg_Length', 'avg_2019-02-01 13:30:00')  \\\n",
       "103.9.177.185source                                    48.000000   \n",
       "104.192.1.15source                                     60.548171   \n",
       "104.248.135.165source                                  61.171340   \n",
       "104.248.37.237source                                   61.751657   \n",
       "115.133.239.238source                                   0.000000   \n",
       "\n",
       "                       ('avg_Length', 'avg_2019-02-01 14:00:00')  ...  \\\n",
       "103.9.177.185source                                    48.000000  ...   \n",
       "104.192.1.15source                                     59.983181  ...   \n",
       "104.248.135.165source                                  61.223111  ...   \n",
       "104.248.37.237source                                   61.767182  ...   \n",
       "115.133.239.238source                                   0.000000  ...   \n",
       "\n",
       "                       ('count_Port2_last_1', 'count_2019-02-01 22:00:00')  \\\n",
       "103.9.177.185source                                                  0.0     \n",
       "104.192.1.15source                                                   0.0     \n",
       "104.248.135.165source                                                0.0     \n",
       "104.248.37.237source                                               400.0     \n",
       "115.133.239.238source                                             1828.0     \n",
       "\n",
       "                       host0  host1  host2  host3  host4  host5  host6  host7  \\\n",
       "103.9.177.185source        1      0      1      1      1      0      0      1   \n",
       "104.192.1.15source         0      0      0      0      1      1      1      1   \n",
       "104.248.135.165source      1      0      1      0      0      1      0      1   \n",
       "104.248.37.237source       1      1      1      0      1      1      0      1   \n",
       "115.133.239.238source      1      1      1      0      1      1      1      0   \n",
       "\n",
       "                       is_src  \n",
       "103.9.177.185source         1  \n",
       "104.192.1.15source          1  \n",
       "104.248.135.165source       1  \n",
       "104.248.37.237source        1  \n",
       "115.133.239.238source       1  \n",
       "\n",
       "[5 rows x 1101 columns]"
      ]
     },
     "execution_count": 97,
     "metadata": {},
     "output_type": "execute_result"
    }
   ],
   "source": [
    "threshold = error_df.values.mean() + error_df.values.std()\n",
    "idx_ae = error_df.values > threshold\n",
    "anomalies = error_df[error_df.values > threshold]\n",
    "print(anomalies.shape)\n",
    "data[idx_ae].head()"
   ]
  },
  {
   "cell_type": "markdown",
   "metadata": {},
   "source": [
    "Threshold can be an argument for each model"
   ]
  },
  {
   "cell_type": "code",
   "execution_count": 74,
   "metadata": {},
   "outputs": [
    {
     "data": {
      "text/plain": [
       "<mpl_toolkits.mplot3d.art3d.Path3DCollection at 0x7f9a1a4b7390>"
      ]
     },
     "execution_count": 74,
     "metadata": {},
     "output_type": "execute_result"
    },
    {
     "data": {
      "image/png": "[encoded data removed]",
      "text/plain": [
       "<Figure size 432x288 with 1 Axes>"
      ]
     },
     "metadata": {
      "needs_background": "light"
     },
     "output_type": "display_data"
    }
   ],
   "source": [
    "anomalies = np.zeros((len(data),1))\n",
    "anomalies[idx_ae] = -1\n",
    "anomalies = anomalies.reshape(len(anomalies), )\n",
    "fig = plt.figure()\n",
    "ax = fig.add_subplot(111,projection='3d')\n",
    "ax.scatter(data_pca[:,0], data_pca[:,1], data_pca[:,2], c=anomalies, )"
   ]
  },
  {
   "cell_type": "code",
   "execution_count": 53,
   "metadata": {},
   "outputs": [
    {
     "data": {
      "text/plain": [
       "0    116\n",
       "1     73\n",
       "Name: is_src, dtype: int64"
      ]
     },
     "execution_count": 53,
     "metadata": {},
     "output_type": "execute_result"
    }
   ],
   "source": [
    "data[idx_ae]['is_src'].value_counts()"
   ]
  },
  {
   "cell_type": "code",
   "execution_count": null,
   "metadata": {},
   "outputs": [],
   "source": [
    "fig = plt.figure()\n",
    "ax = fig.add_subplot(111,projection='3d')\n",
    "ax.scatter(data_pca[:,0], data_pca[:,1], data_pca[:,2], c=results_pca, )"
   ]
  },
  {
   "cell_type": "code",
   "execution_count": 103,
   "metadata": {},
   "outputs": [
    {
     "data": {
      "text/plain": [
       "256"
      ]
     },
     "execution_count": 103,
     "metadata": {},
     "output_type": "execute_result"
    }
   ],
   "source": [
    "i_forest.max_samples_"
   ]
  },
  {
   "cell_type": "code",
   "execution_count": 106,
   "metadata": {},
   "outputs": [
    {
     "data": {
      "text/plain": [
       "[0.9064423261840375,\n",
       " 0.9063538048198104,\n",
       " 0.9062705341650541,\n",
       " 0.9061782598760886,\n",
       " 0.9061743006918203,\n",
       " 0.905978893285909,\n",
       " 0.9058395075524784,\n",
       " 0.9057539843305611,\n",
       " 0.9057277964206646,\n",
       " 0.9057167675431068,\n",
       " 0.9056745985791579,\n",
       " 0.905573931195599,\n",
       " 0.905519075244949,\n",
       " 0.9054440302053424,\n",
       " 0.9053798605089862,\n",
       " 0.9053093448424516,\n",
       " 0.9052512138864082,\n",
       " 0.9051753603965232,\n",
       " 0.9051590636587887,\n",
       " 0.9051527036212991,\n",
       " 0.9051635901411382,\n",
       " 0.9053126300631457,\n",
       " 0.9051858335347431,\n",
       " 0.9050450101971685,\n",
       " 0.9049760105343827,\n",
       " 0.9048867787165523,\n",
       " 0.904821130046852,\n",
       " 0.9047910679390371,\n",
       " 0.904812794386469,\n",
       " 0.9047901486930923]"
      ]
     },
     "execution_count": 106,
     "metadata": {},
     "output_type": "execute_result"
    }
   ],
   "source": [
    "autoencoder.history.history['loss']"
   ]
  },
  {
   "cell_type": "code",
   "execution_count": null,
   "metadata": {},
   "outputs": [],
   "source": []
  }
 ],
 "metadata": {
  "kernelspec": {
   "display_name": "Python 3",
   "language": "python",
   "name": "python3"
  },
  "language_info": {
   "codemirror_mode": {
    "name": "ipython",
    "version": 3
   },
   "file_extension": ".py",
   "mimetype": "text/x-python",
   "name": "python",
   "nbconvert_exporter": "python",
   "pygments_lexer": "ipython3",
   "version": "3.6.7"
  }
 },
 "nbformat": 4,
 "nbformat_minor": 2
}
