{
 "cells": [
  {
   "cell_type": "code",
   "execution_count": 41,
   "metadata": {},
   "outputs": [],
   "source": [
    "import numpy as np\n",
    "import pandas as pd\n",
    "import pickle\n",
    "import json\n",
    "from keras.models import load_model\n",
    "from sklearn.preprocessing import StandardScaler, MinMaxScaler\n",
    "\n",
    "MODEL_PATH = 'models_2019_06_01_21_21/'\n",
    "prefix = '../'"
   ]
  },
  {
   "cell_type": "markdown",
   "metadata": {},
   "source": [
    "## Load config"
   ]
  },
  {
   "cell_type": "code",
   "execution_count": 4,
   "metadata": {},
   "outputs": [],
   "source": [
    "with open(MODEL_PATH + 'config.json') as f:\n",
    "    config = json.load(f)"
   ]
  },
  {
   "cell_type": "code",
   "execution_count": 5,
   "metadata": {
    "scrolled": true
   },
   "outputs": [
    {
     "data": {
      "text/plain": [
       "{'IsolationForest': {'n_estimators': 500,\n",
       "  'random_state': 101,\n",
       "  'verbose': 1,\n",
       "  'n_jobs': -1,\n",
       "  'contamination': 0.01,\n",
       "  'behaviour': 'new'},\n",
       " 'Autoencoder': {'optimizer': 'adam',\n",
       "  'loss': 'mean_squared_error',\n",
       "  'epochs': 30,\n",
       "  'batch_size': 256,\n",
       "  'shuffle': True},\n",
       " 'Data': 'data/final/final_dataset_30T.csv'}"
      ]
     },
     "execution_count": 5,
     "metadata": {},
     "output_type": "execute_result"
    }
   ],
   "source": [
    "config"
   ]
  },
  {
   "cell_type": "markdown",
   "metadata": {},
   "source": [
    "## Load data"
   ]
  },
  {
   "cell_type": "code",
   "execution_count": 7,
   "metadata": {
    "scrolled": true
   },
   "outputs": [
    {
     "data": {
      "text/html": [
       "<div>\n",
       "<style scoped>\n",
       "    .dataframe tbody tr th:only-of-type {\n",
       "        vertical-align: middle;\n",
       "    }\n",
       "\n",
       "    .dataframe tbody tr th {\n",
       "        vertical-align: top;\n",
       "    }\n",
       "\n",
       "    .dataframe thead th {\n",
       "        text-align: right;\n",
       "    }\n",
       "</style>\n",
       "<table border=\"1\" class=\"dataframe\">\n",
       "  <thead>\n",
       "    <tr style=\"text-align: right;\">\n",
       "      <th></th>\n",
       "      <th>('avg_Length', 'avg_2019-02-01 09:30:00')</th>\n",
       "      <th>('avg_Length', 'avg_2019-02-01 10:00:00')</th>\n",
       "      <th>('avg_Length', 'avg_2019-02-01 10:30:00')</th>\n",
       "      <th>('avg_Length', 'avg_2019-02-01 11:00:00')</th>\n",
       "      <th>('avg_Length', 'avg_2019-02-01 11:30:00')</th>\n",
       "      <th>('avg_Length', 'avg_2019-02-01 12:00:00')</th>\n",
       "      <th>('avg_Length', 'avg_2019-02-01 12:30:00')</th>\n",
       "      <th>('avg_Length', 'avg_2019-02-01 13:00:00')</th>\n",
       "      <th>('avg_Length', 'avg_2019-02-01 13:30:00')</th>\n",
       "      <th>('avg_Length', 'avg_2019-02-01 14:00:00')</th>\n",
       "      <th>...</th>\n",
       "      <th>('count_Port2_last_1', 'count_2019-02-01 22:00:00')</th>\n",
       "      <th>host0</th>\n",
       "      <th>host1</th>\n",
       "      <th>host2</th>\n",
       "      <th>host3</th>\n",
       "      <th>host4</th>\n",
       "      <th>host5</th>\n",
       "      <th>host6</th>\n",
       "      <th>host7</th>\n",
       "      <th>is_src</th>\n",
       "    </tr>\n",
       "  </thead>\n",
       "  <tbody>\n",
       "    <tr>\n",
       "      <th>1.0.171.245source</th>\n",
       "      <td>0.0</td>\n",
       "      <td>0.0</td>\n",
       "      <td>0.0</td>\n",
       "      <td>0.0</td>\n",
       "      <td>0.0</td>\n",
       "      <td>0.0</td>\n",
       "      <td>0.0</td>\n",
       "      <td>0.0</td>\n",
       "      <td>0.000000</td>\n",
       "      <td>0.0</td>\n",
       "      <td>...</td>\n",
       "      <td>0.0</td>\n",
       "      <td>1</td>\n",
       "      <td>1</td>\n",
       "      <td>1</td>\n",
       "      <td>1</td>\n",
       "      <td>0</td>\n",
       "      <td>1</td>\n",
       "      <td>0</td>\n",
       "      <td>1</td>\n",
       "      <td>1</td>\n",
       "    </tr>\n",
       "    <tr>\n",
       "      <th>1.0.255.54source</th>\n",
       "      <td>0.0</td>\n",
       "      <td>0.0</td>\n",
       "      <td>0.0</td>\n",
       "      <td>0.0</td>\n",
       "      <td>0.0</td>\n",
       "      <td>0.0</td>\n",
       "      <td>0.0</td>\n",
       "      <td>0.0</td>\n",
       "      <td>51.219512</td>\n",
       "      <td>0.0</td>\n",
       "      <td>...</td>\n",
       "      <td>0.0</td>\n",
       "      <td>0</td>\n",
       "      <td>0</td>\n",
       "      <td>1</td>\n",
       "      <td>1</td>\n",
       "      <td>0</td>\n",
       "      <td>1</td>\n",
       "      <td>1</td>\n",
       "      <td>0</td>\n",
       "      <td>1</td>\n",
       "    </tr>\n",
       "    <tr>\n",
       "      <th>1.1.158.248source</th>\n",
       "      <td>0.0</td>\n",
       "      <td>0.0</td>\n",
       "      <td>0.0</td>\n",
       "      <td>44.0</td>\n",
       "      <td>0.0</td>\n",
       "      <td>0.0</td>\n",
       "      <td>0.0</td>\n",
       "      <td>0.0</td>\n",
       "      <td>0.000000</td>\n",
       "      <td>0.0</td>\n",
       "      <td>...</td>\n",
       "      <td>0.0</td>\n",
       "      <td>1</td>\n",
       "      <td>1</td>\n",
       "      <td>1</td>\n",
       "      <td>1</td>\n",
       "      <td>1</td>\n",
       "      <td>0</td>\n",
       "      <td>0</td>\n",
       "      <td>0</td>\n",
       "      <td>1</td>\n",
       "    </tr>\n",
       "    <tr>\n",
       "      <th>1.1.217.60source</th>\n",
       "      <td>0.0</td>\n",
       "      <td>0.0</td>\n",
       "      <td>0.0</td>\n",
       "      <td>0.0</td>\n",
       "      <td>0.0</td>\n",
       "      <td>0.0</td>\n",
       "      <td>0.0</td>\n",
       "      <td>0.0</td>\n",
       "      <td>0.000000</td>\n",
       "      <td>0.0</td>\n",
       "      <td>...</td>\n",
       "      <td>0.0</td>\n",
       "      <td>0</td>\n",
       "      <td>0</td>\n",
       "      <td>1</td>\n",
       "      <td>1</td>\n",
       "      <td>1</td>\n",
       "      <td>1</td>\n",
       "      <td>0</td>\n",
       "      <td>0</td>\n",
       "      <td>1</td>\n",
       "    </tr>\n",
       "    <tr>\n",
       "      <th>1.1.230.15source</th>\n",
       "      <td>0.0</td>\n",
       "      <td>0.0</td>\n",
       "      <td>0.0</td>\n",
       "      <td>0.0</td>\n",
       "      <td>0.0</td>\n",
       "      <td>0.0</td>\n",
       "      <td>40.0</td>\n",
       "      <td>0.0</td>\n",
       "      <td>0.000000</td>\n",
       "      <td>0.0</td>\n",
       "      <td>...</td>\n",
       "      <td>0.0</td>\n",
       "      <td>0</td>\n",
       "      <td>0</td>\n",
       "      <td>0</td>\n",
       "      <td>0</td>\n",
       "      <td>1</td>\n",
       "      <td>1</td>\n",
       "      <td>1</td>\n",
       "      <td>1</td>\n",
       "      <td>1</td>\n",
       "    </tr>\n",
       "  </tbody>\n",
       "</table>\n",
       "<p>5 rows × 1101 columns</p>\n",
       "</div>"
      ],
      "text/plain": [
       "                   ('avg_Length', 'avg_2019-02-01 09:30:00')  \\\n",
       "1.0.171.245source                                        0.0   \n",
       "1.0.255.54source                                         0.0   \n",
       "1.1.158.248source                                        0.0   \n",
       "1.1.217.60source                                         0.0   \n",
       "1.1.230.15source                                         0.0   \n",
       "\n",
       "                   ('avg_Length', 'avg_2019-02-01 10:00:00')  \\\n",
       "1.0.171.245source                                        0.0   \n",
       "1.0.255.54source                                         0.0   \n",
       "1.1.158.248source                                        0.0   \n",
       "1.1.217.60source                                         0.0   \n",
       "1.1.230.15source                                         0.0   \n",
       "\n",
       "                   ('avg_Length', 'avg_2019-02-01 10:30:00')  \\\n",
       "1.0.171.245source                                        0.0   \n",
       "1.0.255.54source                                         0.0   \n",
       "1.1.158.248source                                        0.0   \n",
       "1.1.217.60source                                         0.0   \n",
       "1.1.230.15source                                         0.0   \n",
       "\n",
       "                   ('avg_Length', 'avg_2019-02-01 11:00:00')  \\\n",
       "1.0.171.245source                                        0.0   \n",
       "1.0.255.54source                                         0.0   \n",
       "1.1.158.248source                                       44.0   \n",
       "1.1.217.60source                                         0.0   \n",
       "1.1.230.15source                                         0.0   \n",
       "\n",
       "                   ('avg_Length', 'avg_2019-02-01 11:30:00')  \\\n",
       "1.0.171.245source                                        0.0   \n",
       "1.0.255.54source                                         0.0   \n",
       "1.1.158.248source                                        0.0   \n",
       "1.1.217.60source                                         0.0   \n",
       "1.1.230.15source                                         0.0   \n",
       "\n",
       "                   ('avg_Length', 'avg_2019-02-01 12:00:00')  \\\n",
       "1.0.171.245source                                        0.0   \n",
       "1.0.255.54source                                         0.0   \n",
       "1.1.158.248source                                        0.0   \n",
       "1.1.217.60source                                         0.0   \n",
       "1.1.230.15source                                         0.0   \n",
       "\n",
       "                   ('avg_Length', 'avg_2019-02-01 12:30:00')  \\\n",
       "1.0.171.245source                                        0.0   \n",
       "1.0.255.54source                                         0.0   \n",
       "1.1.158.248source                                        0.0   \n",
       "1.1.217.60source                                         0.0   \n",
       "1.1.230.15source                                        40.0   \n",
       "\n",
       "                   ('avg_Length', 'avg_2019-02-01 13:00:00')  \\\n",
       "1.0.171.245source                                        0.0   \n",
       "1.0.255.54source                                         0.0   \n",
       "1.1.158.248source                                        0.0   \n",
       "1.1.217.60source                                         0.0   \n",
       "1.1.230.15source                                         0.0   \n",
       "\n",
       "                   ('avg_Length', 'avg_2019-02-01 13:30:00')  \\\n",
       "1.0.171.245source                                   0.000000   \n",
       "1.0.255.54source                                   51.219512   \n",
       "1.1.158.248source                                   0.000000   \n",
       "1.1.217.60source                                    0.000000   \n",
       "1.1.230.15source                                    0.000000   \n",
       "\n",
       "                   ('avg_Length', 'avg_2019-02-01 14:00:00')  ...  \\\n",
       "1.0.171.245source                                        0.0  ...   \n",
       "1.0.255.54source                                         0.0  ...   \n",
       "1.1.158.248source                                        0.0  ...   \n",
       "1.1.217.60source                                         0.0  ...   \n",
       "1.1.230.15source                                         0.0  ...   \n",
       "\n",
       "                   ('count_Port2_last_1', 'count_2019-02-01 22:00:00')  host0  \\\n",
       "1.0.171.245source                                                0.0        1   \n",
       "1.0.255.54source                                                 0.0        0   \n",
       "1.1.158.248source                                                0.0        1   \n",
       "1.1.217.60source                                                 0.0        0   \n",
       "1.1.230.15source                                                 0.0        0   \n",
       "\n",
       "                   host1  host2  host3  host4  host5  host6  host7  is_src  \n",
       "1.0.171.245source      1      1      1      0      1      0      1       1  \n",
       "1.0.255.54source       0      1      1      0      1      1      0       1  \n",
       "1.1.158.248source      1      1      1      1      0      0      0       1  \n",
       "1.1.217.60source       0      1      1      1      1      0      0       1  \n",
       "1.1.230.15source       0      0      0      1      1      1      1       1  \n",
       "\n",
       "[5 rows x 1101 columns]"
      ]
     },
     "execution_count": 7,
     "metadata": {},
     "output_type": "execute_result"
    }
   ],
   "source": [
    "data = pd.read_csv(prefix + config['Data'], sep='\\t', index_col=[0])\n",
    "data = StandardScaler().fit_transform(data)\n",
    "data.head()"
   ]
  },
  {
   "cell_type": "markdown",
   "metadata": {},
   "source": [
    "## Load models"
   ]
  },
  {
   "cell_type": "code",
   "execution_count": 11,
   "metadata": {},
   "outputs": [],
   "source": [
    "autoencoder = load_model(MODEL_PATH + 'autoencoder.h5')\n",
    "with open(MODEL_PATH + 'IsolationForest.pkl', 'rb') as f:\n",
    "    forest = pickle.load(f)"
   ]
  },
  {
   "cell_type": "code",
   "execution_count": 17,
   "metadata": {},
   "outputs": [],
   "source": [
    "reconstructed_data = autoencoder.predict(data)\n",
    "forest_anomalies = forest.predict(data)"
   ]
  },
  {
   "cell_type": "code",
   "execution_count": 60,
   "metadata": {
    "scrolled": true
   },
   "outputs": [
    {
     "data": {
      "text/html": [
       "<div>\n",
       "<style scoped>\n",
       "    .dataframe tbody tr th:only-of-type {\n",
       "        vertical-align: middle;\n",
       "    }\n",
       "\n",
       "    .dataframe tbody tr th {\n",
       "        vertical-align: top;\n",
       "    }\n",
       "\n",
       "    .dataframe thead th {\n",
       "        text-align: right;\n",
       "    }\n",
       "</style>\n",
       "<table border=\"1\" class=\"dataframe\">\n",
       "  <thead>\n",
       "    <tr style=\"text-align: right;\">\n",
       "      <th></th>\n",
       "      <th>Recostruction_Error</th>\n",
       "      <th>is_anomaly</th>\n",
       "    </tr>\n",
       "  </thead>\n",
       "  <tbody>\n",
       "    <tr>\n",
       "      <th>count</th>\n",
       "      <td>46713.000000</td>\n",
       "      <td>46713.0</td>\n",
       "    </tr>\n",
       "    <tr>\n",
       "      <th>mean</th>\n",
       "      <td>0.907569</td>\n",
       "      <td>0.0</td>\n",
       "    </tr>\n",
       "    <tr>\n",
       "      <th>std</th>\n",
       "      <td>36.001205</td>\n",
       "      <td>0.0</td>\n",
       "    </tr>\n",
       "    <tr>\n",
       "      <th>min</th>\n",
       "      <td>0.011125</td>\n",
       "      <td>0.0</td>\n",
       "    </tr>\n",
       "    <tr>\n",
       "      <th>25%</th>\n",
       "      <td>0.016692</td>\n",
       "      <td>0.0</td>\n",
       "    </tr>\n",
       "    <tr>\n",
       "      <th>50%</th>\n",
       "      <td>0.018707</td>\n",
       "      <td>0.0</td>\n",
       "    </tr>\n",
       "    <tr>\n",
       "      <th>75%</th>\n",
       "      <td>0.028167</td>\n",
       "      <td>0.0</td>\n",
       "    </tr>\n",
       "    <tr>\n",
       "      <th>max</th>\n",
       "      <td>6278.611243</td>\n",
       "      <td>0.0</td>\n",
       "    </tr>\n",
       "  </tbody>\n",
       "</table>\n",
       "</div>"
      ],
      "text/plain": [
       "       Recostruction_Error  is_anomaly\n",
       "count         46713.000000     46713.0\n",
       "mean              0.907569         0.0\n",
       "std              36.001205         0.0\n",
       "min               0.011125         0.0\n",
       "25%               0.016692         0.0\n",
       "50%               0.018707         0.0\n",
       "75%               0.028167         0.0\n",
       "max            6278.611243         0.0"
      ]
     },
     "execution_count": 60,
     "metadata": {},
     "output_type": "execute_result"
    }
   ],
   "source": [
    "mse = np.mean(np.power(data - reconstructed_data, 2), axis=1)\n",
    "error = pd.DataFrame({'Recostruction_Error': mse, 'is_anomaly':0})\n",
    "error.describe()"
   ]
  },
  {
   "cell_type": "code",
   "execution_count": 62,
   "metadata": {},
   "outputs": [
    {
     "name": "stderr",
     "output_type": "stream",
     "text": [
      "/home/gmellizo-soto/Envs/env/lib/python3.6/site-packages/pandas/core/indexing.py:190: SettingWithCopyWarning: \n",
      "A value is trying to be set on a copy of a slice from a DataFrame\n",
      "\n",
      "See the caveats in the documentation: http://pandas.pydata.org/pandas-docs/stable/indexing.html#indexing-view-versus-copy\n",
      "  self._setitem_with_indexer(indexer, value)\n"
     ]
    }
   ],
   "source": [
    "np.unique(forest_anomalies, return_counts=True)\n",
    "a = error.Recostruction_Error.nlargest(sum(forest_anomalies == -1))\n",
    "error.is_anomaly.loc[a.index] = -1"
   ]
  },
  {
   "cell_type": "code",
   "execution_count": 66,
   "metadata": {},
   "outputs": [
    {
     "data": {
      "text/plain": [
       "(368, 1101)"
      ]
     },
     "execution_count": 66,
     "metadata": {},
     "output_type": "execute_result"
    }
   ],
   "source": [
    "data[(error.is_anomaly == -1) & (forest_anomalies == -1)].shape"
   ]
  },
  {
   "cell_type": "code",
   "execution_count": 55,
   "metadata": {
    "scrolled": true
   },
   "outputs": [
    {
     "data": {
      "text/plain": [
       "31433    1.000000\n",
       "39541    0.466964\n",
       "1176     0.373981\n",
       "34135    0.162414\n",
       "16662    0.147459\n",
       "37217    0.136991\n",
       "5689     0.129379\n",
       "5688     0.107599\n",
       "5690     0.105414\n",
       "39540    0.087607\n",
       "5687     0.083833\n",
       "5691     0.064587\n",
       "5694     0.061462\n",
       "5698     0.057994\n",
       "5695     0.057282\n",
       "5696     0.055492\n",
       "5700     0.054557\n",
       "5692     0.051366\n",
       "5697     0.050193\n",
       "5699     0.046857\n",
       "15689    0.046592\n",
       "31440    0.044549\n",
       "1185     0.044484\n",
       "5987     0.043671\n",
       "5693     0.040334\n",
       "34291    0.039782\n",
       "33950    0.038167\n",
       "12039    0.036261\n",
       "12064    0.033040\n",
       "33949    0.031728\n",
       "           ...   \n",
       "33964    0.001516\n",
       "33939    0.001507\n",
       "1354     0.001505\n",
       "11915    0.001500\n",
       "33931    0.001486\n",
       "33925    0.001484\n",
       "33861    0.001484\n",
       "44583    0.001476\n",
       "37033    0.001474\n",
       "42761    0.001462\n",
       "33871    0.001459\n",
       "37214    0.001457\n",
       "33973    0.001457\n",
       "37126    0.001456\n",
       "33934    0.001454\n",
       "33938    0.001449\n",
       "12033    0.001448\n",
       "33944    0.001448\n",
       "37132    0.001442\n",
       "45352    0.001437\n",
       "41943    0.001433\n",
       "33866    0.001431\n",
       "35604    0.001429\n",
       "33917    0.001429\n",
       "33933    0.001428\n",
       "22062    0.001419\n",
       "33921    0.001418\n",
       "33873    0.001417\n",
       "33876    0.001412\n",
       "44563    0.001398\n",
       "Name: Recostruction_Error, Length: 468, dtype: float64"
      ]
     },
     "execution_count": 55,
     "metadata": {},
     "output_type": "execute_result"
    }
   ],
   "source": [
    "a"
   ]
  },
  {
   "cell_type": "code",
   "execution_count": 72,
   "metadata": {},
   "outputs": [
    {
     "data": {
      "text/plain": [
       "368"
      ]
     },
     "execution_count": 72,
     "metadata": {},
     "output_type": "execute_result"
    }
   ],
   "source": [
    "sum((error.is_anomaly == -1) & (forest_anomalies == -1))"
   ]
  },
  {
   "cell_type": "code",
   "execution_count": 73,
   "metadata": {},
   "outputs": [
    {
     "name": "stderr",
     "output_type": "stream",
     "text": [
      "/home/gmellizo-soto/Envs/env/lib/python3.6/site-packages/ipykernel_launcher.py:7: SettingWithCopyWarning: \n",
      "A value is trying to be set on a copy of a slice from a DataFrame\n",
      "\n",
      "See the caveats in the documentation: http://pandas.pydata.org/pandas-docs/stable/indexing.html#indexing-view-versus-copy\n",
      "  import sys\n",
      "/home/gmellizo-soto/Envs/env/lib/python3.6/site-packages/ipykernel_launcher.py:9: SettingWithCopyWarning: \n",
      "A value is trying to be set on a copy of a slice from a DataFrame\n",
      "\n",
      "See the caveats in the documentation: http://pandas.pydata.org/pandas-docs/stable/indexing.html#indexing-view-versus-copy\n",
      "  if __name__ == '__main__':\n"
     ]
    }
   ],
   "source": [
    "forest_anomalies = forest.predict(data)\n",
    "mse = np.mean(np.power(data - autoencoder.predict(data), 2), axis=1)\n",
    "error = pd.DataFrame({'Recostruction_Error': mse,\n",
    "                      'ae_anomaly': 0,\n",
    "                      'is_anomaly': 0})\n",
    "idx = error.Recostruction_Error.nlargest(sum(forest_anomalies == -1)).index\n",
    "error['ae_anomaly'][idx] = -1\n",
    "idx = (error.ae_anomaly == -1) & (forest_anomalies == -1)\n",
    "error['is_anomaly'][idx] = -1"
   ]
  },
  {
   "cell_type": "code",
   "execution_count": 78,
   "metadata": {},
   "outputs": [
    {
     "name": "stderr",
     "output_type": "stream",
     "text": [
      "/home/gmellizo-soto/Envs/env/lib/python3.6/site-packages/ipykernel_launcher.py:5: SettingWithCopyWarning: \n",
      "A value is trying to be set on a copy of a slice from a DataFrame\n",
      "\n",
      "See the caveats in the documentation: http://pandas.pydata.org/pandas-docs/stable/indexing.html#indexing-view-versus-copy\n",
      "  \"\"\"\n",
      "/home/gmellizo-soto/Envs/env/lib/python3.6/site-packages/ipykernel_launcher.py:7: SettingWithCopyWarning: \n",
      "A value is trying to be set on a copy of a slice from a DataFrame\n",
      "\n",
      "See the caveats in the documentation: http://pandas.pydata.org/pandas-docs/stable/indexing.html#indexing-view-versus-copy\n",
      "  import sys\n"
     ]
    }
   ],
   "source": [
    "error = pd.DataFrame({'Recostruction_Error': mse,\n",
    "                      'ae_anomaly': 0,\n",
    "                      'is_anomaly': 0})\n",
    "idx = error.Recostruction_Error.nlargest(sum(forest_anomalies == -1)).index\n",
    "error['ae_anomaly'][idx] = -1\n",
    "idx = (error.ae_anomaly == -1) & (forest_anomalies == -1)\n",
    "error['is_anomaly'][idx] = -1"
   ]
  },
  {
   "cell_type": "code",
   "execution_count": 80,
   "metadata": {},
   "outputs": [
    {
     "data": {
      "text/plain": [
       " 0    46345\n",
       "-1      368\n",
       "Name: is_anomaly, dtype: int64"
      ]
     },
     "execution_count": 80,
     "metadata": {},
     "output_type": "execute_result"
    }
   ],
   "source": [
    "error['is_anomaly'].value_counts()"
   ]
  },
  {
   "cell_type": "code",
   "execution_count": null,
   "metadata": {},
   "outputs": [],
   "source": []
  }
 ],
 "metadata": {
  "kernelspec": {
   "display_name": "Python 3",
   "language": "python",
   "name": "python3"
  },
  "language_info": {
   "codemirror_mode": {
    "name": "ipython",
    "version": 3
   },
   "file_extension": ".py",
   "mimetype": "text/x-python",
   "name": "python",
   "nbconvert_exporter": "python",
   "pygments_lexer": "ipython3",
   "version": "3.6.7"
  }
 },
 "nbformat": 4,
 "nbformat_minor": 2
}
